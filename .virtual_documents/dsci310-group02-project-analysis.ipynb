


# Import packages
library(tidyverse)
library(lubridate) 
library(repr)
library(corrplot)





# Load the dataset
housing_data <- read_csv("dsci310-group02-project/data/new.csv", locale = locale(encoding = "UTF-8")) %>% mutate(floor = str_trim(str_extract(floor,"( .*)"), side = "both"))

# Explore the structure and summary statistics of the dataset
head(housing_data)
tail(housing_data)
summary(housing_data)





# Remove some not useful columns
housing_data <- select(housing_data, -url, -id, -Cid)

# Convert character variables to appropriate types
housing_data <- housing_data %>%
  mutate(tradeTime = as.Date(tradeTime),
         livingRoom = as.integer(livingRoom),
         drawingRoom = as.integer(drawingRoom),
         bathroom = as.integer(bathRoom),
         constructionTime = as.integer(constructionTime))

# Also remove variables with Chinese characters
housing_data <- select(housing_data, -floor)

# Check for missing values
summary(housing_data)


# Visualize distribution of numeric variables using histograms
ggplot(housing_data, aes(x = totalPrice)) +
  geom_histogram(binwidth = 1000, fill = "skyblue", color = "black") +
  labs(title = "Distribution of Total Price",
       x = "Total Price (Tens of Thousands RMB)",
       y = "Frequency")

# Explore relationships between variables using scatter plots
ggplot(housing_data, aes(x = square, y = totalPrice)) +
  geom_point() +
  labs(title = "Total Price vs. Square",
       x = "Square",
       y = "Total Price (Tens of Thousands RMB)")


# Computing correlation matrix for numeric variables
numeric_vars <- select(housing_data, where(is.numeric))
corr_matrix <- cor(numeric_vars, use = "complete.obs") # use="complete.obs" handles missing values by using available data

# Visualize the correlation matrix
corrplot(corr_matrix, method = "color", type = "upper", order = "hclust", 
         tl.col = "black", tl.srt = 45, 
         col = colorRampPalette(c("#6D9EC1", "white", "#E46726"))(200))


# Box plot for the relationship between the number of living rooms and total price
ggplot(housing_data, aes(x = as.factor(livingRoom), y = totalPrice)) +
  geom_boxplot() +
  labs(title = "Total Price by Number of Living Rooms",
       x = "Number of Living Rooms",
       y = "Total Price") +
  theme_minimal()

# Box plot for the relationship between the number of drawing rooms and total price
ggplot(housing_data, aes(x = as.factor(drawingRoom), y = totalPrice)) +
  geom_boxplot() +
  labs(title = "Total Price by Number of Drawing Rooms",
       x = "Number of Drawing Rooms",
       y = "Total Price") +
  theme_minimal()

# Box plot for the relationship between the number of bathrooms and total price
ggplot(housing_data, aes(x = as.factor(bathRoom), y = totalPrice)) +
  geom_boxplot() +
  labs(title = "Total Price by Number of Bathrooms",
       x = "Number of Bathrooms",
       y = "Total Price") +
  theme_minimal()


# Linear regression model: totalPrice ~ .
model <- lm(totalPrice ~ ., data = housing_data)

# Summary of the regression model
summary(model)


# Predicting totalPrice using the model
housing_data$predictedPrice <- predict(model, housing_data)

# Visualization of Actual vs. Predicted Prices
ggplot(housing_data, aes(x = totalPrice, y = predictedPrice)) +
  geom_point(alpha = 0.5) +
  geom_abline(color = "red") +
  labs(title = "Actual vs. Predicted Total Price",
       x = "Actual Total Price",
       y = "Predicted Total Price") +
  theme_minimal()
