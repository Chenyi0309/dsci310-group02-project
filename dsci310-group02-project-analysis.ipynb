{
 "cells": [
  {
   "cell_type": "markdown",
   "id": "63a9db22-0acc-4b8b-bcea-dc9ac9f86bfa",
   "metadata": {},
   "source": [
    "# Uncovering the Drivers of Housing Prices in Beijing: The Influence of Location and Time"
   ]
  },
  {
   "cell_type": "code",
   "execution_count": 1,
   "id": "a8edc571-6fd1-46fc-a700-788876838adc",
   "metadata": {
    "vscode": {
     "languageId": "r"
    }
   },
   "outputs": [
    {
     "name": "stderr",
     "output_type": "stream",
     "text": [
      "Warning message:\n",
      "“package ‘dplyr’ was built under R version 4.3.2”\n",
      "Warning message:\n",
      "“package ‘stringr’ was built under R version 4.3.2”\n",
      "── \u001b[1mAttaching core tidyverse packages\u001b[22m ──────────────────────── tidyverse 2.0.0 ──\n",
      "\u001b[32m✔\u001b[39m \u001b[34mdplyr    \u001b[39m 1.1.4     \u001b[32m✔\u001b[39m \u001b[34mreadr    \u001b[39m 2.1.4\n",
      "\u001b[32m✔\u001b[39m \u001b[34mforcats  \u001b[39m 1.0.0     \u001b[32m✔\u001b[39m \u001b[34mstringr  \u001b[39m 1.5.1\n",
      "\u001b[32m✔\u001b[39m \u001b[34mggplot2  \u001b[39m 3.4.4     \u001b[32m✔\u001b[39m \u001b[34mtibble   \u001b[39m 3.2.1\n",
      "\u001b[32m✔\u001b[39m \u001b[34mlubridate\u001b[39m 1.9.3     \u001b[32m✔\u001b[39m \u001b[34mtidyr    \u001b[39m 1.3.0\n",
      "\u001b[32m✔\u001b[39m \u001b[34mpurrr    \u001b[39m 1.0.2     \n",
      "── \u001b[1mConflicts\u001b[22m ────────────────────────────────────────── tidyverse_conflicts() ──\n",
      "\u001b[31m✖\u001b[39m \u001b[34mdplyr\u001b[39m::\u001b[32mfilter()\u001b[39m masks \u001b[34mstats\u001b[39m::filter()\n",
      "\u001b[31m✖\u001b[39m \u001b[34mdplyr\u001b[39m::\u001b[32mlag()\u001b[39m    masks \u001b[34mstats\u001b[39m::lag()\n",
      "\u001b[36mℹ\u001b[39m Use the conflicted package (\u001b[3m\u001b[34m<http://conflicted.r-lib.org/>\u001b[39m\u001b[23m) to force all conflicts to become errors\n"
     ]
    }
   ],
   "source": [
    "# Import packages\n",
    "library(tidyverse)\n",
    "library(lubridate) \n",
    "library(repr)"
   ]
  },
  {
   "cell_type": "markdown",
   "id": "40619cca-c952-4695-8a18-dffdd448e18b",
   "metadata": {},
   "source": [
    "## Read and Load Data Set"
   ]
  },
  {
   "cell_type": "code",
   "execution_count": 2,
   "id": "d8c5aeef-1efb-40d2-8b79-4419b942e004",
   "metadata": {
    "vscode": {
     "languageId": "r"
    }
   },
   "outputs": [
    {
     "name": "stderr",
     "output_type": "stream",
     "text": [
      "Warning message:\n",
      "“\u001b[1m\u001b[22mOne or more parsing issues, call `problems()` on your data frame for details,\n",
      "e.g.:\n",
      "  dat <- vroom(...)\n",
      "  problems(dat)”\n",
      "\u001b[1mRows: \u001b[22m\u001b[34m318851\u001b[39m \u001b[1mColumns: \u001b[22m\u001b[34m26\u001b[39m\n",
      "\u001b[36m──\u001b[39m \u001b[1mColumn specification\u001b[22m \u001b[36m────────────────────────────────────────────────────────\u001b[39m\n",
      "\u001b[1mDelimiter:\u001b[22m \",\"\n",
      "\u001b[31mchr\u001b[39m   (4): url, id, floor, constructionTime\n",
      "\u001b[32mdbl\u001b[39m  (21): Lng, Lat, Cid, DOM, followers, totalPrice, price, square, livingR...\n",
      "\u001b[34mdate\u001b[39m  (1): tradeTime\n",
      "\n",
      "\u001b[36mℹ\u001b[39m Use `spec()` to retrieve the full column specification for this data.\n",
      "\u001b[36mℹ\u001b[39m Specify the column types or set `show_col_types = FALSE` to quiet this message.\n"
     ]
    },
    {
     "data": {
      "text/html": [
       "<table class=\"dataframe\">\n",
       "<caption>A tibble: 6 × 26</caption>\n",
       "<thead>\n",
       "\t<tr><th scope=col>url</th><th scope=col>id</th><th scope=col>Lng</th><th scope=col>Lat</th><th scope=col>Cid</th><th scope=col>tradeTime</th><th scope=col>DOM</th><th scope=col>followers</th><th scope=col>totalPrice</th><th scope=col>price</th><th scope=col>⋯</th><th scope=col>buildingType</th><th scope=col>constructionTime</th><th scope=col>renovationCondition</th><th scope=col>buildingStructure</th><th scope=col>ladderRatio</th><th scope=col>elevator</th><th scope=col>fiveYearsProperty</th><th scope=col>subway</th><th scope=col>district</th><th scope=col>communityAverage</th></tr>\n",
       "\t<tr><th scope=col>&lt;chr&gt;</th><th scope=col>&lt;chr&gt;</th><th scope=col>&lt;dbl&gt;</th><th scope=col>&lt;dbl&gt;</th><th scope=col>&lt;dbl&gt;</th><th scope=col>&lt;date&gt;</th><th scope=col>&lt;dbl&gt;</th><th scope=col>&lt;dbl&gt;</th><th scope=col>&lt;dbl&gt;</th><th scope=col>&lt;dbl&gt;</th><th scope=col>⋯</th><th scope=col>&lt;dbl&gt;</th><th scope=col>&lt;chr&gt;</th><th scope=col>&lt;dbl&gt;</th><th scope=col>&lt;dbl&gt;</th><th scope=col>&lt;dbl&gt;</th><th scope=col>&lt;dbl&gt;</th><th scope=col>&lt;dbl&gt;</th><th scope=col>&lt;dbl&gt;</th><th scope=col>&lt;dbl&gt;</th><th scope=col>&lt;dbl&gt;</th></tr>\n",
       "</thead>\n",
       "<tbody>\n",
       "\t<tr><td>https://bj.lianjia.com/chengjiao/101084782030.html</td><td>101084782030</td><td>116.4755</td><td>40.01952</td><td>1.111027e+12</td><td>2016-08-09</td><td>1464</td><td>106</td><td> 415.0</td><td>31680</td><td>⋯</td><td>1</td><td>2005</td><td>3</td><td>6</td><td>0.217</td><td>1</td><td>0</td><td>1</td><td>7</td><td>56021</td></tr>\n",
       "\t<tr><td>https://bj.lianjia.com/chengjiao/101086012217.html</td><td>101086012217</td><td>116.4539</td><td>39.88153</td><td>1.111027e+12</td><td>2016-07-28</td><td> 903</td><td>126</td><td> 575.0</td><td>43436</td><td>⋯</td><td>1</td><td>2004</td><td>4</td><td>6</td><td>0.667</td><td>1</td><td>1</td><td>0</td><td>7</td><td>71539</td></tr>\n",
       "\t<tr><td>https://bj.lianjia.com/chengjiao/101086041636.html</td><td>101086041636</td><td>116.5620</td><td>39.87714</td><td>1.111041e+12</td><td>2016-12-11</td><td>1271</td><td> 48</td><td>1030.0</td><td>52021</td><td>⋯</td><td>4</td><td>2005</td><td>3</td><td>6</td><td>0.500</td><td>1</td><td>0</td><td>0</td><td>7</td><td>48160</td></tr>\n",
       "\t<tr><td>https://bj.lianjia.com/chengjiao/101086406841.html</td><td>101086406841</td><td>116.4380</td><td>40.07611</td><td>1.111043e+12</td><td>2016-09-30</td><td> 965</td><td>138</td><td> 297.5</td><td>22202</td><td>⋯</td><td>1</td><td>2008</td><td>1</td><td>6</td><td>0.273</td><td>1</td><td>0</td><td>0</td><td>6</td><td>51238</td></tr>\n",
       "\t<tr><td>https://bj.lianjia.com/chengjiao/101086920653.html</td><td>101086920653</td><td>116.4284</td><td>39.88623</td><td>1.111027e+12</td><td>2016-08-28</td><td> 927</td><td>286</td><td> 392.0</td><td>48396</td><td>⋯</td><td>4</td><td>1960</td><td>2</td><td>2</td><td>0.333</td><td>0</td><td>1</td><td>1</td><td>1</td><td>62588</td></tr>\n",
       "\t<tr><td>https://bj.lianjia.com/chengjiao/101087277815.html</td><td>101087277815</td><td>116.4663</td><td>39.99136</td><td>1.111027e+12</td><td>2016-07-22</td><td> 861</td><td> 57</td><td> 275.6</td><td>52000</td><td>⋯</td><td>4</td><td>2005</td><td>3</td><td>6</td><td>0.333</td><td>1</td><td>1</td><td>0</td><td>7</td><td>67738</td></tr>\n",
       "</tbody>\n",
       "</table>\n"
      ],
      "text/latex": [
       "A tibble: 6 × 26\n",
       "\\begin{tabular}{lllllllllllllllllllll}\n",
       " url & id & Lng & Lat & Cid & tradeTime & DOM & followers & totalPrice & price & ⋯ & buildingType & constructionTime & renovationCondition & buildingStructure & ladderRatio & elevator & fiveYearsProperty & subway & district & communityAverage\\\\\n",
       " <chr> & <chr> & <dbl> & <dbl> & <dbl> & <date> & <dbl> & <dbl> & <dbl> & <dbl> & ⋯ & <dbl> & <chr> & <dbl> & <dbl> & <dbl> & <dbl> & <dbl> & <dbl> & <dbl> & <dbl>\\\\\n",
       "\\hline\n",
       "\t https://bj.lianjia.com/chengjiao/101084782030.html & 101084782030 & 116.4755 & 40.01952 & 1.111027e+12 & 2016-08-09 & 1464 & 106 &  415.0 & 31680 & ⋯ & 1 & 2005 & 3 & 6 & 0.217 & 1 & 0 & 1 & 7 & 56021\\\\\n",
       "\t https://bj.lianjia.com/chengjiao/101086012217.html & 101086012217 & 116.4539 & 39.88153 & 1.111027e+12 & 2016-07-28 &  903 & 126 &  575.0 & 43436 & ⋯ & 1 & 2004 & 4 & 6 & 0.667 & 1 & 1 & 0 & 7 & 71539\\\\\n",
       "\t https://bj.lianjia.com/chengjiao/101086041636.html & 101086041636 & 116.5620 & 39.87714 & 1.111041e+12 & 2016-12-11 & 1271 &  48 & 1030.0 & 52021 & ⋯ & 4 & 2005 & 3 & 6 & 0.500 & 1 & 0 & 0 & 7 & 48160\\\\\n",
       "\t https://bj.lianjia.com/chengjiao/101086406841.html & 101086406841 & 116.4380 & 40.07611 & 1.111043e+12 & 2016-09-30 &  965 & 138 &  297.5 & 22202 & ⋯ & 1 & 2008 & 1 & 6 & 0.273 & 1 & 0 & 0 & 6 & 51238\\\\\n",
       "\t https://bj.lianjia.com/chengjiao/101086920653.html & 101086920653 & 116.4284 & 39.88623 & 1.111027e+12 & 2016-08-28 &  927 & 286 &  392.0 & 48396 & ⋯ & 4 & 1960 & 2 & 2 & 0.333 & 0 & 1 & 1 & 1 & 62588\\\\\n",
       "\t https://bj.lianjia.com/chengjiao/101087277815.html & 101087277815 & 116.4663 & 39.99136 & 1.111027e+12 & 2016-07-22 &  861 &  57 &  275.6 & 52000 & ⋯ & 4 & 2005 & 3 & 6 & 0.333 & 1 & 1 & 0 & 7 & 67738\\\\\n",
       "\\end{tabular}\n"
      ],
      "text/markdown": [
       "\n",
       "A tibble: 6 × 26\n",
       "\n",
       "| url &lt;chr&gt; | id &lt;chr&gt; | Lng &lt;dbl&gt; | Lat &lt;dbl&gt; | Cid &lt;dbl&gt; | tradeTime &lt;date&gt; | DOM &lt;dbl&gt; | followers &lt;dbl&gt; | totalPrice &lt;dbl&gt; | price &lt;dbl&gt; | ⋯ ⋯ | buildingType &lt;dbl&gt; | constructionTime &lt;chr&gt; | renovationCondition &lt;dbl&gt; | buildingStructure &lt;dbl&gt; | ladderRatio &lt;dbl&gt; | elevator &lt;dbl&gt; | fiveYearsProperty &lt;dbl&gt; | subway &lt;dbl&gt; | district &lt;dbl&gt; | communityAverage &lt;dbl&gt; |\n",
       "|---|---|---|---|---|---|---|---|---|---|---|---|---|---|---|---|---|---|---|---|---|\n",
       "| https://bj.lianjia.com/chengjiao/101084782030.html | 101084782030 | 116.4755 | 40.01952 | 1.111027e+12 | 2016-08-09 | 1464 | 106 |  415.0 | 31680 | ⋯ | 1 | 2005 | 3 | 6 | 0.217 | 1 | 0 | 1 | 7 | 56021 |\n",
       "| https://bj.lianjia.com/chengjiao/101086012217.html | 101086012217 | 116.4539 | 39.88153 | 1.111027e+12 | 2016-07-28 |  903 | 126 |  575.0 | 43436 | ⋯ | 1 | 2004 | 4 | 6 | 0.667 | 1 | 1 | 0 | 7 | 71539 |\n",
       "| https://bj.lianjia.com/chengjiao/101086041636.html | 101086041636 | 116.5620 | 39.87714 | 1.111041e+12 | 2016-12-11 | 1271 |  48 | 1030.0 | 52021 | ⋯ | 4 | 2005 | 3 | 6 | 0.500 | 1 | 0 | 0 | 7 | 48160 |\n",
       "| https://bj.lianjia.com/chengjiao/101086406841.html | 101086406841 | 116.4380 | 40.07611 | 1.111043e+12 | 2016-09-30 |  965 | 138 |  297.5 | 22202 | ⋯ | 1 | 2008 | 1 | 6 | 0.273 | 1 | 0 | 0 | 6 | 51238 |\n",
       "| https://bj.lianjia.com/chengjiao/101086920653.html | 101086920653 | 116.4284 | 39.88623 | 1.111027e+12 | 2016-08-28 |  927 | 286 |  392.0 | 48396 | ⋯ | 4 | 1960 | 2 | 2 | 0.333 | 0 | 1 | 1 | 1 | 62588 |\n",
       "| https://bj.lianjia.com/chengjiao/101087277815.html | 101087277815 | 116.4663 | 39.99136 | 1.111027e+12 | 2016-07-22 |  861 |  57 |  275.6 | 52000 | ⋯ | 4 | 2005 | 3 | 6 | 0.333 | 1 | 1 | 0 | 7 | 67738 |\n",
       "\n"
      ],
      "text/plain": [
       "  url                                                id           Lng     \n",
       "1 https://bj.lianjia.com/chengjiao/101084782030.html 101084782030 116.4755\n",
       "2 https://bj.lianjia.com/chengjiao/101086012217.html 101086012217 116.4539\n",
       "3 https://bj.lianjia.com/chengjiao/101086041636.html 101086041636 116.5620\n",
       "4 https://bj.lianjia.com/chengjiao/101086406841.html 101086406841 116.4380\n",
       "5 https://bj.lianjia.com/chengjiao/101086920653.html 101086920653 116.4284\n",
       "6 https://bj.lianjia.com/chengjiao/101087277815.html 101087277815 116.4663\n",
       "  Lat      Cid          tradeTime  DOM  followers totalPrice price ⋯\n",
       "1 40.01952 1.111027e+12 2016-08-09 1464 106        415.0     31680 ⋯\n",
       "2 39.88153 1.111027e+12 2016-07-28  903 126        575.0     43436 ⋯\n",
       "3 39.87714 1.111041e+12 2016-12-11 1271  48       1030.0     52021 ⋯\n",
       "4 40.07611 1.111043e+12 2016-09-30  965 138        297.5     22202 ⋯\n",
       "5 39.88623 1.111027e+12 2016-08-28  927 286        392.0     48396 ⋯\n",
       "6 39.99136 1.111027e+12 2016-07-22  861  57        275.6     52000 ⋯\n",
       "  buildingType constructionTime renovationCondition buildingStructure\n",
       "1 1            2005             3                   6                \n",
       "2 1            2004             4                   6                \n",
       "3 4            2005             3                   6                \n",
       "4 1            2008             1                   6                \n",
       "5 4            1960             2                   2                \n",
       "6 4            2005             3                   6                \n",
       "  ladderRatio elevator fiveYearsProperty subway district communityAverage\n",
       "1 0.217       1        0                 1      7        56021           \n",
       "2 0.667       1        1                 0      7        71539           \n",
       "3 0.500       1        0                 0      7        48160           \n",
       "4 0.273       1        0                 0      6        51238           \n",
       "5 0.333       0        1                 1      1        62588           \n",
       "6 0.333       1        1                 0      7        67738           "
      ]
     },
     "metadata": {},
     "output_type": "display_data"
    },
    {
     "data": {
      "text/html": [
       "<table class=\"dataframe\">\n",
       "<caption>A tibble: 6 × 26</caption>\n",
       "<thead>\n",
       "\t<tr><th scope=col>url</th><th scope=col>id</th><th scope=col>Lng</th><th scope=col>Lat</th><th scope=col>Cid</th><th scope=col>tradeTime</th><th scope=col>DOM</th><th scope=col>followers</th><th scope=col>totalPrice</th><th scope=col>price</th><th scope=col>⋯</th><th scope=col>buildingType</th><th scope=col>constructionTime</th><th scope=col>renovationCondition</th><th scope=col>buildingStructure</th><th scope=col>ladderRatio</th><th scope=col>elevator</th><th scope=col>fiveYearsProperty</th><th scope=col>subway</th><th scope=col>district</th><th scope=col>communityAverage</th></tr>\n",
       "\t<tr><th scope=col>&lt;chr&gt;</th><th scope=col>&lt;chr&gt;</th><th scope=col>&lt;dbl&gt;</th><th scope=col>&lt;dbl&gt;</th><th scope=col>&lt;dbl&gt;</th><th scope=col>&lt;date&gt;</th><th scope=col>&lt;dbl&gt;</th><th scope=col>&lt;dbl&gt;</th><th scope=col>&lt;dbl&gt;</th><th scope=col>&lt;dbl&gt;</th><th scope=col>⋯</th><th scope=col>&lt;dbl&gt;</th><th scope=col>&lt;chr&gt;</th><th scope=col>&lt;dbl&gt;</th><th scope=col>&lt;dbl&gt;</th><th scope=col>&lt;dbl&gt;</th><th scope=col>&lt;dbl&gt;</th><th scope=col>&lt;dbl&gt;</th><th scope=col>&lt;dbl&gt;</th><th scope=col>&lt;dbl&gt;</th><th scope=col>&lt;dbl&gt;</th></tr>\n",
       "</thead>\n",
       "<tbody>\n",
       "\t<tr><td>https://bj.lianjia.com/chengjiao/BJYZ92303482.html</td><td>BJYZ92303482</td><td>116.5469</td><td>39.75524</td><td>1.111027e+12</td><td>2016-06-09</td><td>  1</td><td>8</td><td>355.5</td><td>26491</td><td>⋯</td><td>3</td><td>2009</td><td>4</td><td>6</td><td>0.500</td><td>1</td><td>1</td><td>0</td><td>3</td><td>36545</td></tr>\n",
       "\t<tr><td>https://bj.lianjia.com/chengjiao/BJYZ92311192.html</td><td>BJYZ92311192</td><td>116.5469</td><td>39.75524</td><td>1.111027e+12</td><td>2016-06-10</td><td>  1</td><td>8</td><td>350.0</td><td>20580</td><td>⋯</td><td>4</td><td>2003</td><td>1</td><td>6</td><td>0.333</td><td>0</td><td>1</td><td>0</td><td>3</td><td>36545</td></tr>\n",
       "\t<tr><td>https://bj.lianjia.com/chengjiao/BJYZ92320171.html</td><td>BJYZ92320171</td><td>116.4975</td><td>39.81012</td><td>1.111027e+12</td><td>2016-06-10</td><td>NaN</td><td>1</td><td>108.8</td><td>31006</td><td>⋯</td><td>1</td><td>2009</td><td>1</td><td>6</td><td>0.222</td><td>1</td><td>0</td><td>1</td><td>3</td><td>54282</td></tr>\n",
       "\t<tr><td>https://bj.lianjia.com/chengjiao/BJYZ92324217.html</td><td>BJYZ92324217</td><td>116.4973</td><td>39.80408</td><td>1.111027e+12</td><td>2016-06-05</td><td>  1</td><td>2</td><td>359.0</td><td>35138</td><td>⋯</td><td>4</td><td>2000</td><td>3</td><td>6</td><td>0.500</td><td>1</td><td>1</td><td>0</td><td>3</td><td>46927</td></tr>\n",
       "\t<tr><td>https://bj.lianjia.com/chengjiao/BJYZ92333313.html</td><td>BJYZ92333313</td><td>116.5018</td><td>39.79935</td><td>1.111027e+12</td><td>2016-06-12</td><td>NaN</td><td>4</td><td>720.0</td><td>40373</td><td>⋯</td><td>4</td><td>2003</td><td>4</td><td>2</td><td>0.500</td><td>0</td><td>1</td><td>0</td><td>3</td><td>54842</td></tr>\n",
       "\t<tr><td>https://bj.lianjia.com/chengjiao/BJYZ92363553.html</td><td>BJYZ92363553</td><td>116.4975</td><td>39.81012</td><td>1.111027e+12</td><td>2016-06-11</td><td>  1</td><td>0</td><td>450.0</td><td>48675</td><td>⋯</td><td>4</td><td>δ֪   </td><td>4</td><td>6</td><td>1.000</td><td>1</td><td>0</td><td>1</td><td>3</td><td>54282</td></tr>\n",
       "</tbody>\n",
       "</table>\n"
      ],
      "text/latex": [
       "A tibble: 6 × 26\n",
       "\\begin{tabular}{lllllllllllllllllllll}\n",
       " url & id & Lng & Lat & Cid & tradeTime & DOM & followers & totalPrice & price & ⋯ & buildingType & constructionTime & renovationCondition & buildingStructure & ladderRatio & elevator & fiveYearsProperty & subway & district & communityAverage\\\\\n",
       " <chr> & <chr> & <dbl> & <dbl> & <dbl> & <date> & <dbl> & <dbl> & <dbl> & <dbl> & ⋯ & <dbl> & <chr> & <dbl> & <dbl> & <dbl> & <dbl> & <dbl> & <dbl> & <dbl> & <dbl>\\\\\n",
       "\\hline\n",
       "\t https://bj.lianjia.com/chengjiao/BJYZ92303482.html & BJYZ92303482 & 116.5469 & 39.75524 & 1.111027e+12 & 2016-06-09 &   1 & 8 & 355.5 & 26491 & ⋯ & 3 & 2009 & 4 & 6 & 0.500 & 1 & 1 & 0 & 3 & 36545\\\\\n",
       "\t https://bj.lianjia.com/chengjiao/BJYZ92311192.html & BJYZ92311192 & 116.5469 & 39.75524 & 1.111027e+12 & 2016-06-10 &   1 & 8 & 350.0 & 20580 & ⋯ & 4 & 2003 & 1 & 6 & 0.333 & 0 & 1 & 0 & 3 & 36545\\\\\n",
       "\t https://bj.lianjia.com/chengjiao/BJYZ92320171.html & BJYZ92320171 & 116.4975 & 39.81012 & 1.111027e+12 & 2016-06-10 & NaN & 1 & 108.8 & 31006 & ⋯ & 1 & 2009 & 1 & 6 & 0.222 & 1 & 0 & 1 & 3 & 54282\\\\\n",
       "\t https://bj.lianjia.com/chengjiao/BJYZ92324217.html & BJYZ92324217 & 116.4973 & 39.80408 & 1.111027e+12 & 2016-06-05 &   1 & 2 & 359.0 & 35138 & ⋯ & 4 & 2000 & 3 & 6 & 0.500 & 1 & 1 & 0 & 3 & 46927\\\\\n",
       "\t https://bj.lianjia.com/chengjiao/BJYZ92333313.html & BJYZ92333313 & 116.5018 & 39.79935 & 1.111027e+12 & 2016-06-12 & NaN & 4 & 720.0 & 40373 & ⋯ & 4 & 2003 & 4 & 2 & 0.500 & 0 & 1 & 0 & 3 & 54842\\\\\n",
       "\t https://bj.lianjia.com/chengjiao/BJYZ92363553.html & BJYZ92363553 & 116.4975 & 39.81012 & 1.111027e+12 & 2016-06-11 &   1 & 0 & 450.0 & 48675 & ⋯ & 4 & δ֪    & 4 & 6 & 1.000 & 1 & 0 & 1 & 3 & 54282\\\\\n",
       "\\end{tabular}\n"
      ],
      "text/markdown": [
       "\n",
       "A tibble: 6 × 26\n",
       "\n",
       "| url &lt;chr&gt; | id &lt;chr&gt; | Lng &lt;dbl&gt; | Lat &lt;dbl&gt; | Cid &lt;dbl&gt; | tradeTime &lt;date&gt; | DOM &lt;dbl&gt; | followers &lt;dbl&gt; | totalPrice &lt;dbl&gt; | price &lt;dbl&gt; | ⋯ ⋯ | buildingType &lt;dbl&gt; | constructionTime &lt;chr&gt; | renovationCondition &lt;dbl&gt; | buildingStructure &lt;dbl&gt; | ladderRatio &lt;dbl&gt; | elevator &lt;dbl&gt; | fiveYearsProperty &lt;dbl&gt; | subway &lt;dbl&gt; | district &lt;dbl&gt; | communityAverage &lt;dbl&gt; |\n",
       "|---|---|---|---|---|---|---|---|---|---|---|---|---|---|---|---|---|---|---|---|---|\n",
       "| https://bj.lianjia.com/chengjiao/BJYZ92303482.html | BJYZ92303482 | 116.5469 | 39.75524 | 1.111027e+12 | 2016-06-09 |   1 | 8 | 355.5 | 26491 | ⋯ | 3 | 2009 | 4 | 6 | 0.500 | 1 | 1 | 0 | 3 | 36545 |\n",
       "| https://bj.lianjia.com/chengjiao/BJYZ92311192.html | BJYZ92311192 | 116.5469 | 39.75524 | 1.111027e+12 | 2016-06-10 |   1 | 8 | 350.0 | 20580 | ⋯ | 4 | 2003 | 1 | 6 | 0.333 | 0 | 1 | 0 | 3 | 36545 |\n",
       "| https://bj.lianjia.com/chengjiao/BJYZ92320171.html | BJYZ92320171 | 116.4975 | 39.81012 | 1.111027e+12 | 2016-06-10 | NaN | 1 | 108.8 | 31006 | ⋯ | 1 | 2009 | 1 | 6 | 0.222 | 1 | 0 | 1 | 3 | 54282 |\n",
       "| https://bj.lianjia.com/chengjiao/BJYZ92324217.html | BJYZ92324217 | 116.4973 | 39.80408 | 1.111027e+12 | 2016-06-05 |   1 | 2 | 359.0 | 35138 | ⋯ | 4 | 2000 | 3 | 6 | 0.500 | 1 | 1 | 0 | 3 | 46927 |\n",
       "| https://bj.lianjia.com/chengjiao/BJYZ92333313.html | BJYZ92333313 | 116.5018 | 39.79935 | 1.111027e+12 | 2016-06-12 | NaN | 4 | 720.0 | 40373 | ⋯ | 4 | 2003 | 4 | 2 | 0.500 | 0 | 1 | 0 | 3 | 54842 |\n",
       "| https://bj.lianjia.com/chengjiao/BJYZ92363553.html | BJYZ92363553 | 116.4975 | 39.81012 | 1.111027e+12 | 2016-06-11 |   1 | 0 | 450.0 | 48675 | ⋯ | 4 | δ֪    | 4 | 6 | 1.000 | 1 | 0 | 1 | 3 | 54282 |\n",
       "\n"
      ],
      "text/plain": [
       "  url                                                id           Lng     \n",
       "1 https://bj.lianjia.com/chengjiao/BJYZ92303482.html BJYZ92303482 116.5469\n",
       "2 https://bj.lianjia.com/chengjiao/BJYZ92311192.html BJYZ92311192 116.5469\n",
       "3 https://bj.lianjia.com/chengjiao/BJYZ92320171.html BJYZ92320171 116.4975\n",
       "4 https://bj.lianjia.com/chengjiao/BJYZ92324217.html BJYZ92324217 116.4973\n",
       "5 https://bj.lianjia.com/chengjiao/BJYZ92333313.html BJYZ92333313 116.5018\n",
       "6 https://bj.lianjia.com/chengjiao/BJYZ92363553.html BJYZ92363553 116.4975\n",
       "  Lat      Cid          tradeTime  DOM followers totalPrice price ⋯\n",
       "1 39.75524 1.111027e+12 2016-06-09   1 8         355.5      26491 ⋯\n",
       "2 39.75524 1.111027e+12 2016-06-10   1 8         350.0      20580 ⋯\n",
       "3 39.81012 1.111027e+12 2016-06-10 NaN 1         108.8      31006 ⋯\n",
       "4 39.80408 1.111027e+12 2016-06-05   1 2         359.0      35138 ⋯\n",
       "5 39.79935 1.111027e+12 2016-06-12 NaN 4         720.0      40373 ⋯\n",
       "6 39.81012 1.111027e+12 2016-06-11   1 0         450.0      48675 ⋯\n",
       "  buildingType constructionTime renovationCondition buildingStructure\n",
       "1 3            2009             4                   6                \n",
       "2 4            2003             1                   6                \n",
       "3 1            2009             1                   6                \n",
       "4 4            2000             3                   6                \n",
       "5 4            2003             4                   2                \n",
       "6 4            δ֪                4                   6                \n",
       "  ladderRatio elevator fiveYearsProperty subway district communityAverage\n",
       "1 0.500       1        1                 0      3        36545           \n",
       "2 0.333       0        1                 0      3        36545           \n",
       "3 0.222       1        0                 1      3        54282           \n",
       "4 0.500       1        1                 0      3        46927           \n",
       "5 0.500       0        1                 0      3        54842           \n",
       "6 1.000       1        0                 1      3        54282           "
      ]
     },
     "metadata": {},
     "output_type": "display_data"
    },
    {
     "data": {
      "text/plain": [
       "     url                 id                 Lng             Lat       \n",
       " Length:318851      Length:318851      Min.   :116.1   Min.   :39.63  \n",
       " Class :character   Class :character   1st Qu.:116.3   1st Qu.:39.89  \n",
       " Mode  :character   Mode  :character   Median :116.4   Median :39.93  \n",
       "                                       Mean   :116.4   Mean   :39.95  \n",
       "                                       3rd Qu.:116.5   3rd Qu.:40.00  \n",
       "                                       Max.   :116.7   Max.   :40.25  \n",
       "                                                                      \n",
       "      Cid              tradeTime               DOM            followers      \n",
       " Min.   :1.111e+12   Min.   :2002-06-01   Min.   :   1.00   Min.   :   0.00  \n",
       " 1st Qu.:1.111e+12   1st Qu.:2013-11-30   1st Qu.:   1.00   1st Qu.:   0.00  \n",
       " Median :1.111e+12   Median :2015-09-12   Median :   6.00   Median :   5.00  \n",
       " Mean   :1.129e+12   Mean   :2015-04-17   Mean   :  28.82   Mean   :  16.73  \n",
       " 3rd Qu.:1.111e+12   3rd Qu.:2016-07-31   3rd Qu.:  37.00   3rd Qu.:  18.00  \n",
       " Max.   :1.115e+15   Max.   :2018-01-28   Max.   :1677.00   Max.   :1143.00  \n",
       "                                          NA's   :157977                     \n",
       "   totalPrice          price            square          livingRoom  \n",
       " Min.   :    0.1   Min.   :     1   Min.   :   6.90   Min.   :0.00  \n",
       " 1st Qu.:  205.0   1st Qu.: 28050   1st Qu.:  57.90   1st Qu.:1.00  \n",
       " Median :  294.0   Median : 38737   Median :  74.26   Median :2.00  \n",
       " Mean   :  349.0   Mean   : 43530   Mean   :  83.24   Mean   :2.01  \n",
       " 3rd Qu.:  425.5   3rd Qu.: 53820   3rd Qu.:  98.71   3rd Qu.:2.00  \n",
       " Max.   :18130.0   Max.   :156250   Max.   :1745.50   Max.   :9.00  \n",
       "                                                      NA's   :32    \n",
       "  drawingRoom       kitchen          bathRoom           floor          \n",
       " Min.   :0.000   Min.   :0.0000   Min.   :   0.000   Length:318851     \n",
       " 1st Qu.:1.000   1st Qu.:1.0000   1st Qu.:   1.000   Class :character  \n",
       " Median :1.000   Median :1.0000   Median :   1.000   Mode  :character  \n",
       " Mean   :1.172   Mean   :0.9946   Mean   :   1.376                     \n",
       " 3rd Qu.:1.000   3rd Qu.:1.0000   3rd Qu.:   1.000                     \n",
       " Max.   :5.000   Max.   :4.0000   Max.   :2011.000                     \n",
       " NA's   :32                       NA's   :2                            \n",
       "  buildingType   constructionTime   renovationCondition buildingStructure\n",
       " Min.   :0.048   Length:318851      Min.   :0.000       Min.   :0.000    \n",
       " 1st Qu.:1.000   Class :character   1st Qu.:1.000       1st Qu.:2.000    \n",
       " Median :4.000   Mode  :character   Median :3.000       Median :6.000    \n",
       " Mean   :3.010                      Mean   :2.606       Mean   :4.451    \n",
       " 3rd Qu.:4.000                      3rd Qu.:4.000       3rd Qu.:6.000    \n",
       " Max.   :4.000                      Max.   :4.000       Max.   :6.000    \n",
       " NA's   :2021                                                            \n",
       "  ladderRatio          elevator     fiveYearsProperty     subway      \n",
       " Min.   :       0   Min.   :0.000   Min.   :0.0000    Min.   :0.0000  \n",
       " 1st Qu.:       0   1st Qu.:0.000   1st Qu.:0.0000    1st Qu.:0.0000  \n",
       " Median :       0   Median :1.000   Median :1.0000    Median :1.0000  \n",
       " Mean   :      63   Mean   :0.577   Mean   :0.6456    Mean   :0.6011  \n",
       " 3rd Qu.:       0   3rd Qu.:1.000   3rd Qu.:1.0000    3rd Qu.:1.0000  \n",
       " Max.   :10009400   Max.   :1.000   Max.   :1.0000    Max.   :1.0000  \n",
       "                    NA's   :32      NA's   :32        NA's   :32      \n",
       "    district      communityAverage\n",
       " Min.   : 1.000   Min.   : 10847  \n",
       " 1st Qu.: 6.000   1st Qu.: 46339  \n",
       " Median : 7.000   Median : 59015  \n",
       " Mean   : 6.764   Mean   : 63682  \n",
       " 3rd Qu.: 8.000   3rd Qu.: 75950  \n",
       " Max.   :13.000   Max.   :183109  \n",
       "                  NA's   :463     "
      ]
     },
     "metadata": {},
     "output_type": "display_data"
    }
   ],
   "source": [
    "# Load the dataset\n",
    "housing_data <- read_csv(\"dsci310-group02-project/data/new.csv\", locale = locale(encoding = \"UTF-8\")) %>% mutate(floor = str_trim(str_extract(floor,\"( .*)\"), side = \"both\"))\n",
    "\n",
    "# Explore the structure and summary statistics of the dataset\n",
    "head(housing_data)\n",
    "tail(housing_data)\n",
    "summary(housing_data)"
   ]
  },
  {
   "cell_type": "markdown",
   "id": "b0ec6c3a-e3d6-4ce7-b938-d06bb3c7e332",
   "metadata": {},
   "source": [
    "## Cleaning and Wrangling Data"
   ]
  },
  {
   "cell_type": "code",
   "execution_count": 3,
   "id": "f3adcbcd-ca7c-4b46-8fb5-a8358ce4ae2e",
   "metadata": {
    "vscode": {
     "languageId": "r"
    }
   },
   "outputs": [
    {
     "name": "stderr",
     "output_type": "stream",
     "text": [
      "Warning message:\n",
      "“\u001b[1m\u001b[22mThere was 1 warning in `mutate()`.\n",
      "\u001b[1m\u001b[22m\u001b[36mℹ\u001b[39m In argument: `constructionTime = as.integer(constructionTime)`.\n",
      "Caused by warning:\n",
      "\u001b[33m!\u001b[39m NAs introduced by coercion”\n"
     ]
    },
    {
     "data": {
      "text/plain": [
       "      Lng             Lat          tradeTime               DOM         \n",
       " Min.   :116.1   Min.   :39.63   Min.   :2002-06-01   Min.   :   1.00  \n",
       " 1st Qu.:116.3   1st Qu.:39.89   1st Qu.:2013-11-30   1st Qu.:   1.00  \n",
       " Median :116.4   Median :39.93   Median :2015-09-12   Median :   6.00  \n",
       " Mean   :116.4   Mean   :39.95   Mean   :2015-04-17   Mean   :  28.82  \n",
       " 3rd Qu.:116.5   3rd Qu.:40.00   3rd Qu.:2016-07-31   3rd Qu.:  37.00  \n",
       " Max.   :116.7   Max.   :40.25   Max.   :2018-01-28   Max.   :1677.00  \n",
       "                                                      NA's   :157977   \n",
       "   followers         totalPrice          price            square       \n",
       " Min.   :   0.00   Min.   :    0.1   Min.   :     1   Min.   :   6.90  \n",
       " 1st Qu.:   0.00   1st Qu.:  205.0   1st Qu.: 28050   1st Qu.:  57.90  \n",
       " Median :   5.00   Median :  294.0   Median : 38737   Median :  74.26  \n",
       " Mean   :  16.73   Mean   :  349.0   Mean   : 43530   Mean   :  83.24  \n",
       " 3rd Qu.:  18.00   3rd Qu.:  425.5   3rd Qu.: 53820   3rd Qu.:  98.71  \n",
       " Max.   :1143.00   Max.   :18130.0   Max.   :156250   Max.   :1745.50  \n",
       "                                                                       \n",
       "   livingRoom    drawingRoom       kitchen          bathRoom       \n",
       " Min.   :0.00   Min.   :0.000   Min.   :0.0000   Min.   :   0.000  \n",
       " 1st Qu.:1.00   1st Qu.:1.000   1st Qu.:1.0000   1st Qu.:   1.000  \n",
       " Median :2.00   Median :1.000   Median :1.0000   Median :   1.000  \n",
       " Mean   :2.01   Mean   :1.172   Mean   :0.9946   Mean   :   1.376  \n",
       " 3rd Qu.:2.00   3rd Qu.:1.000   3rd Qu.:1.0000   3rd Qu.:   1.000  \n",
       " Max.   :9.00   Max.   :5.000   Max.   :4.0000   Max.   :2011.000  \n",
       " NA's   :32     NA's   :32                       NA's   :2         \n",
       "  buildingType   constructionTime renovationCondition buildingStructure\n",
       " Min.   :0.048   Min.   :   0     Min.   :0.000       Min.   :0.000    \n",
       " 1st Qu.:1.000   1st Qu.:1994     1st Qu.:1.000       1st Qu.:2.000    \n",
       " Median :4.000   Median :2001     Median :3.000       Median :6.000    \n",
       " Mean   :3.010   Mean   :1999     Mean   :2.606       Mean   :4.451    \n",
       " 3rd Qu.:4.000   3rd Qu.:2006     3rd Qu.:4.000       3rd Qu.:6.000    \n",
       " Max.   :4.000   Max.   :2016     Max.   :4.000       Max.   :6.000    \n",
       " NA's   :2021    NA's   :19283                                         \n",
       "  ladderRatio          elevator     fiveYearsProperty     subway      \n",
       " Min.   :       0   Min.   :0.000   Min.   :0.0000    Min.   :0.0000  \n",
       " 1st Qu.:       0   1st Qu.:0.000   1st Qu.:0.0000    1st Qu.:0.0000  \n",
       " Median :       0   Median :1.000   Median :1.0000    Median :1.0000  \n",
       " Mean   :      63   Mean   :0.577   Mean   :0.6456    Mean   :0.6011  \n",
       " 3rd Qu.:       0   3rd Qu.:1.000   3rd Qu.:1.0000    3rd Qu.:1.0000  \n",
       " Max.   :10009400   Max.   :1.000   Max.   :1.0000    Max.   :1.0000  \n",
       "                    NA's   :32      NA's   :32        NA's   :32      \n",
       "    district      communityAverage    bathroom       \n",
       " Min.   : 1.000   Min.   : 10847   Min.   :   0.000  \n",
       " 1st Qu.: 6.000   1st Qu.: 46339   1st Qu.:   1.000  \n",
       " Median : 7.000   Median : 59015   Median :   1.000  \n",
       " Mean   : 6.764   Mean   : 63682   Mean   :   1.376  \n",
       " 3rd Qu.: 8.000   3rd Qu.: 75950   3rd Qu.:   1.000  \n",
       " Max.   :13.000   Max.   :183109   Max.   :2011.000  \n",
       "                  NA's   :463      NA's   :2         "
      ]
     },
     "metadata": {},
     "output_type": "display_data"
    }
   ],
   "source": [
    "# Remove some not useful columns\n",
    "housing_data <- select(housing_data, -url, -id, -Cid)\n",
    "\n",
    "# Convert character variables to appropriate types\n",
    "housing_data <- housing_data %>%\n",
    "  mutate(tradeTime = as.Date(tradeTime),\n",
    "         livingRoom = as.integer(livingRoom),\n",
    "         drawingRoom = as.integer(drawingRoom),\n",
    "         bathroom = as.integer(bathRoom),\n",
    "         constructionTime = as.integer(constructionTime))\n",
    "\n",
    "# Also remove variables with Chinese characters\n",
    "housing_data <- select(housing_data, -floor)\n",
    "\n",
    "# Check for missing values\n",
    "summary(housing_data)"
   ]
  },
  {
   "cell_type": "code",
   "execution_count": 10,
   "id": "4700bff7-d23f-45da-a253-505e1e76b8ad",
   "metadata": {
    "vscode": {
     "languageId": "r"
    }
   },
   "outputs": [
    {
     "data": {
      "image/png": "[encoded data removed]",
      "text/plain": [
       "plot without title"
      ]
     },
     "metadata": {
      "image/png": {
       "height": 420,
       "width": 420
      }
     },
     "output_type": "display_data"
    },
    {
     "data": {
      "image/png": "[encoded data removed]",
      "text/plain": [
       "plot without title"
      ]
     },
     "metadata": {
      "image/png": {
       "height": 420,
       "width": 420
      }
     },
     "output_type": "display_data"
    }
   ],
   "source": [
    "# Visualize distribution of numeric variables using histograms\n",
    "ggplot(housing_data, aes(x = totalPrice)) +\n",
    "  geom_histogram(binwidth = 1000, fill = \"skyblue\", color = \"black\") +\n",
    "  labs(title = \"Distribution of Total Price\",\n",
    "       x = \"Total Price (Tens of Thousands RMB)\",\n",
    "       y = \"Frequency\")\n",
    "\n",
    "# Explore relationships between variables using scatter plots\n",
    "ggplot(housing_data, aes(x = square, y = totalPrice)) +\n",
    "  geom_point() +\n",
    "  labs(title = \"Total Price vs. Square\",\n",
    "       x = \"Square\",\n",
    "       y = \"Total Price (Tens of Thousands RMB)\")"
   ]
  },
  {
   "cell_type": "code",
   "execution_count": null,
   "id": "1a5e5d0d-dd89-4f7a-b09e-fcaaa9c6c5c9",
   "metadata": {
    "vscode": {
     "languageId": "r"
    }
   },
   "outputs": [],
   "source": []
  },
  {
   "cell_type": "code",
   "execution_count": null,
   "id": "100dc1d4-eb2f-4b1c-9ba6-31f9f70195bd",
   "metadata": {
    "vscode": {
     "languageId": "r"
    }
   },
   "outputs": [],
   "source": []
  }
 ],
 "metadata": {
  "kernelspec": {
   "display_name": "R",
   "language": "R",
   "name": "ir"
  },
  "language_info": {
   "codemirror_mode": "r",
   "file_extension": ".r",
   "mimetype": "text/x-r-source",
   "name": "R",
   "pygments_lexer": "r",
   "version": "4.3.1"
  }
 },
 "nbformat": 4,
 "nbformat_minor": 5
}
