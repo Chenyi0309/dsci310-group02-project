{
 "cells": [
  {
   "cell_type": "markdown",
   "id": "63a9db22-0acc-4b8b-bcea-dc9ac9f86bfa",
   "metadata": {},
   "source": [
    "# Uncovering the Drivers of Housing Prices in Beijing: The Influence of Location and Time"
   ]
  },
  {
   "cell_type": "code",
   "execution_count": 1,
   "id": "a8edc571-6fd1-46fc-a700-788876838adc",
   "metadata": {
    "vscode": {
     "languageId": "r"
    }
   },
   "outputs": [
    {
     "name": "stderr",
     "output_type": "stream",
     "text": [
      "── \u001b[1mAttaching core tidyverse packages\u001b[22m ──────────────────────── tidyverse 2.0.0 ──\n",
      "\u001b[32m✔\u001b[39m \u001b[34mdplyr    \u001b[39m 1.1.4     \u001b[32m✔\u001b[39m \u001b[34mreadr    \u001b[39m 2.1.5\n",
      "\u001b[32m✔\u001b[39m \u001b[34mforcats  \u001b[39m 1.0.0     \u001b[32m✔\u001b[39m \u001b[34mstringr  \u001b[39m 1.5.1\n",
      "\u001b[32m✔\u001b[39m \u001b[34mggplot2  \u001b[39m 3.4.4     \u001b[32m✔\u001b[39m \u001b[34mtibble   \u001b[39m 3.2.1\n",
      "\u001b[32m✔\u001b[39m \u001b[34mlubridate\u001b[39m 1.9.3     \u001b[32m✔\u001b[39m \u001b[34mtidyr    \u001b[39m 1.3.1\n",
      "\u001b[32m✔\u001b[39m \u001b[34mpurrr    \u001b[39m 1.0.2     \n",
      "── \u001b[1mConflicts\u001b[22m ────────────────────────────────────────── tidyverse_conflicts() ──\n",
      "\u001b[31m✖\u001b[39m \u001b[34mdplyr\u001b[39m::\u001b[32mfilter()\u001b[39m masks \u001b[34mstats\u001b[39m::filter()\n",
      "\u001b[31m✖\u001b[39m \u001b[34mdplyr\u001b[39m::\u001b[32mlag()\u001b[39m    masks \u001b[34mstats\u001b[39m::lag()\n",
      "\u001b[36mℹ\u001b[39m Use the conflicted package (\u001b[3m\u001b[34m<http://conflicted.r-lib.org/>\u001b[39m\u001b[23m) to force all conflicts to become errors\n",
      "corrplot 0.92 loaded\n",
      "\n"
     ]
    }
   ],
   "source": [
    "# Import packages\n",
    "library(tidyverse)\n",
    "library(lubridate) \n",
    "library(repr)\n",
    "library(corrplot)"
   ]
  },
  {
   "cell_type": "markdown",
   "id": "40619cca-c952-4695-8a18-dffdd448e18b",
   "metadata": {},
   "source": [
    "## Read and Load Data Set"
   ]
  },
  {
   "cell_type": "code",
   "execution_count": 2,
   "id": "d8c5aeef-1efb-40d2-8b79-4419b942e004",
   "metadata": {
    "vscode": {
     "languageId": "r"
    }
   },
   "outputs": [
    {
     "ename": "ERROR",
     "evalue": "Error: 'dsci310-group02-project/data/new.csv' does not exist in current working directory ('/Users/prabhjotsingh/dsci310-group02-project').\n",
     "output_type": "error",
     "traceback": [
      "Error: 'dsci310-group02-project/data/new.csv' does not exist in current working directory ('/Users/prabhjotsingh/dsci310-group02-project').\nTraceback:\n",
      "1. read_csv(\"dsci310-group02-project/data/new.csv\", locale = locale(encoding = \"UTF-8\")) %>% \n .     mutate(floor = str_trim(str_extract(floor, \"( .*)\"), side = \"both\"))",
      "2. mutate(., floor = str_trim(str_extract(floor, \"( .*)\"), side = \"both\"))",
      "3. read_csv(\"dsci310-group02-project/data/new.csv\", locale = locale(encoding = \"UTF-8\"))",
      "4. vroom::vroom(file, delim = \",\", col_names = col_names, col_types = col_types, \n .     col_select = {\n .         {\n .             col_select\n .         }\n .     }, id = id, .name_repair = name_repair, skip = skip, n_max = n_max, \n .     na = na, quote = quote, comment = comment, skip_empty_rows = skip_empty_rows, \n .     trim_ws = trim_ws, escape_double = TRUE, escape_backslash = FALSE, \n .     locale = locale, guess_max = guess_max, show_col_types = show_col_types, \n .     progress = progress, altrep = lazy, num_threads = num_threads)",
      "5. vroom_(file, delim = delim %||% col_types$delim, col_names = col_names, \n .     col_types = col_types, id = id, skip = skip, col_select = col_select, \n .     name_repair = .name_repair, na = na, quote = quote, trim_ws = trim_ws, \n .     escape_double = escape_double, escape_backslash = escape_backslash, \n .     comment = comment, skip_empty_rows = skip_empty_rows, locale = locale, \n .     guess_max = guess_max, n_max = n_max, altrep = vroom_altrep(altrep), \n .     num_threads = num_threads, progress = progress)",
      "6. (function (path, write = FALSE) \n . {\n .     if (is.raw(path)) {\n .         return(rawConnection(path, \"rb\"))\n .     }\n .     if (!is.character(path)) {\n .         return(path)\n .     }\n .     if (is_url(path)) {\n .         if (requireNamespace(\"curl\", quietly = TRUE)) {\n .             con <- curl::curl(path)\n .         }\n .         else {\n .             inform(\"`curl` package not installed, falling back to using `url()`\")\n .             con <- url(path)\n .         }\n .         ext <- tolower(tools::file_ext(path))\n .         return(switch(ext, zip = , bz2 = , xz = {\n .             close(con)\n .             stop(\"Reading from remote `\", ext, \"` compressed files is not supported,\\n\", \n .                 \"  download the files locally first.\", call. = FALSE)\n .         }, gz = gzcon(con), con))\n .     }\n .     path <- enc2utf8(path)\n .     p <- split_path_ext(basename_utf8(path))\n .     if (write) {\n .         path <- normalizePath_utf8(path, mustWork = FALSE)\n .     }\n .     else {\n .         path <- check_path(path)\n .     }\n .     if (is_installed(\"archive\")) {\n .         formats <- archive_formats(p$extension)\n .         extension <- p$extension\n .         while (is.null(formats) && nzchar(extension)) {\n .             extension <- split_path_ext(extension)$extension\n .             formats <- archive_formats(extension)\n .         }\n .         if (!is.null(formats)) {\n .             p$extension <- extension\n .             if (write) {\n .                 if (is.null(formats[[1]])) {\n .                   return(archive::file_write(path, filter = formats[[2]]))\n .                 }\n .                 return(archive::archive_write(path, p$path, format = formats[[1]], \n .                   filter = formats[[2]]))\n .             }\n .             if (is.null(formats[[1]])) {\n .                 return(archive::file_read(path, filter = formats[[2]]))\n .             }\n .             return(archive::archive_read(path, format = formats[[1]], \n .                 filter = formats[[2]]))\n .         }\n .     }\n .     if (!write) {\n .         compression <- detect_compression(path)\n .     }\n .     else {\n .         compression <- NA\n .     }\n .     if (is.na(compression)) {\n .         compression <- tools::file_ext(path)\n .     }\n .     if (write && compression == \"zip\") {\n .         stop(\"Can only read from, not write to, .zip\", call. = FALSE)\n .     }\n .     switch(compression, gz = gzfile(path, \"\"), bz2 = bzfile(path, \n .         \"\"), xz = xzfile(path, \"\"), zip = zipfile(path, \"\"), \n .         if (!has_trailing_newline(path)) {\n .             file(path)\n .         } else {\n .             path\n .         })\n . })(\"dsci310-group02-project/data/new.csv\")",
      "7. check_path(path)",
      "8. stop(\"'\", path, \"' does not exist\", if (!is_absolute_path(path)) {\n .     paste0(\" in current working directory ('\", getwd(), \"')\")\n . }, \".\", call. = FALSE)"
     ]
    }
   ],
   "source": [
    "# Load the dataset\n",
    "housing_data <- read_csv(\"dsci310-group02-project/data/new.csv\", locale = locale(encoding = \"UTF-8\")) %>% mutate(floor = str_trim(str_extract(floor,\"( .*)\"), side = \"both\"))\n",
    "\n",
    "# Explore the structure and summary statistics of the dataset\n",
    "head(housing_data)\n",
    "tail(housing_data)\n",
    "summary(housing_data)"
   ]
  },
  {
   "cell_type": "markdown",
   "id": "b0ec6c3a-e3d6-4ce7-b938-d06bb3c7e332",
   "metadata": {},
   "source": [
    "## Cleaning and Wrangling Data"
   ]
  },
  {
   "cell_type": "code",
   "execution_count": null,
   "id": "f3adcbcd-ca7c-4b46-8fb5-a8358ce4ae2e",
   "metadata": {
    "vscode": {
     "languageId": "r"
    }
   },
   "outputs": [],
   "source": [
    "# Remove some not useful columns\n",
    "housing_data <- select(housing_data, -url, -id, -Cid)\n",
    "\n",
    "# Convert character variables to appropriate types\n",
    "housing_data <- housing_data %>%\n",
    "  mutate(tradeTime = as.Date(tradeTime),\n",
    "         livingRoom = as.integer(livingRoom),\n",
    "         drawingRoom = as.integer(drawingRoom),\n",
    "         bathroom = as.integer(bathRoom),\n",
    "         constructionTime = as.integer(constructionTime))\n",
    "\n",
    "# Also remove variables with Chinese characters\n",
    "housing_data <- select(housing_data, -floor)\n",
    "\n",
    "# Check for missing values\n",
    "summary(housing_data)"
   ]
  },
  {
   "cell_type": "code",
   "execution_count": null,
   "id": "4700bff7-d23f-45da-a253-505e1e76b8ad",
   "metadata": {
    "vscode": {
     "languageId": "r"
    }
   },
   "outputs": [],
   "source": [
    "# Visualize distribution of numeric variables using histograms\n",
    "ggplot(housing_data, aes(x = totalPrice)) +\n",
    "  geom_histogram(binwidth = 1000, fill = \"skyblue\", color = \"black\") +\n",
    "  labs(title = \"Distribution of Total Price\",\n",
    "       x = \"Total Price (Tens of Thousands RMB)\",\n",
    "       y = \"Frequency\")\n",
    "\n",
    "# Explore relationships between variables using scatter plots\n",
    "ggplot(housing_data, aes(x = square, y = totalPrice)) +\n",
    "  geom_point() +\n",
    "  labs(title = \"Total Price vs. Square\",\n",
    "       x = \"Square\",\n",
    "       y = \"Total Price (Tens of Thousands RMB)\")"
   ]
  },
  {
   "cell_type": "code",
   "execution_count": null,
   "id": "1a5e5d0d-dd89-4f7a-b09e-fcaaa9c6c5c9",
   "metadata": {
    "vscode": {
     "languageId": "r"
    }
   },
   "outputs": [],
   "source": [
    "# Computing correlation matrix for numeric variables\n",
    "numeric_vars <- select(housing_data, where(is.numeric))\n",
    "corr_matrix <- cor(numeric_vars, use = \"complete.obs\") # use=\"complete.obs\" handles missing values by using available data\n",
    "\n",
    "# Visualize the correlation matrix\n",
    "corrplot(corr_matrix, method = \"color\", type = \"upper\", order = \"hclust\", \n",
    "         tl.col = \"black\", tl.srt = 45, \n",
    "         col = colorRampPalette(c(\"#6D9EC1\", \"white\", \"#E46726\"))(200))"
   ]
  },
  {
   "cell_type": "code",
   "execution_count": null,
   "id": "100dc1d4-eb2f-4b1c-9ba6-31f9f70195bd",
   "metadata": {
    "vscode": {
     "languageId": "r"
    }
   },
   "outputs": [],
   "source": [
    "# Box plot for the relationship between the number of living rooms and total price\n",
    "ggplot(housing_data, aes(x = as.factor(livingRoom), y = totalPrice)) +\n",
    "  geom_boxplot() +\n",
    "  labs(title = \"Total Price by Number of Living Rooms\",\n",
    "       x = \"Number of Living Rooms\",\n",
    "       y = \"Total Price\") +\n",
    "  theme_minimal()\n",
    "\n",
    "# Box plot for the relationship between the number of drawing rooms and total price\n",
    "ggplot(housing_data, aes(x = as.factor(drawingRoom), y = totalPrice)) +\n",
    "  geom_boxplot() +\n",
    "  labs(title = \"Total Price by Number of Drawing Rooms\",\n",
    "       x = \"Number of Drawing Rooms\",\n",
    "       y = \"Total Price\") +\n",
    "  theme_minimal()\n",
    "\n",
    "# Box plot for the relationship between the number of bathrooms and total price\n",
    "ggplot(housing_data, aes(x = as.factor(bathRoom), y = totalPrice)) +\n",
    "  geom_boxplot() +\n",
    "  labs(title = \"Total Price by Number of Bathrooms\",\n",
    "       x = \"Number of Bathrooms\",\n",
    "       y = \"Total Price\") +\n",
    "  theme_minimal()"
   ]
  },
  {
   "cell_type": "code",
   "execution_count": null,
   "id": "66df15c6-df0b-4f98-a97f-99397be3de35",
   "metadata": {},
   "outputs": [],
   "source": [
    "# Linear regression model: totalPrice ~ .\n",
    "model <- lm(totalPrice ~ ., data = housing_data)\n",
    "\n",
    "# Summary of the regression model\n",
    "summary(model)"
   ]
  },
  {
   "cell_type": "code",
   "execution_count": null,
   "id": "67bd3090-cb37-41f1-a170-6e9b04e41c88",
   "metadata": {},
   "outputs": [],
   "source": [
    "# Predicting totalPrice using the model\n",
    "housing_data$predictedPrice <- predict(model, housing_data)\n",
    "\n",
    "# Visualization of Actual vs. Predicted Prices\n",
    "ggplot(housing_data, aes(x = totalPrice, y = predictedPrice)) +\n",
    "  geom_point(alpha = 0.5) +\n",
    "  geom_abline(color = \"red\") +\n",
    "  labs(title = \"Actual vs. Predicted Total Price\",\n",
    "       x = \"Actual Total Price\",\n",
    "       y = \"Predicted Total Price\") +\n",
    "  theme_minimal()"
   ]
  }
 ],
 "metadata": {
  "kernelspec": {
   "display_name": "R",
   "language": "R",
   "name": "ir"
  },
  "language_info": {
   "codemirror_mode": "r",
   "file_extension": ".r",
   "mimetype": "text/x-r-source",
   "name": "R",
   "pygments_lexer": "r",
   "version": "4.3.2"
  }
 },
 "nbformat": 4,
 "nbformat_minor": 5
}
